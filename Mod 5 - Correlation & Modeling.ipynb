{
  "cells": [
    {
      "metadata": {
        "collapsed": true
      },
      "cell_type": "markdown",
      "source": "# MODULE 5 - Correlation & Models\n\nOnce you’ve cleaned up your data and have grown tired of marveling at your sparkly, new dataset – it’s time to explore some of the patterns that might exist within your data. Determining how your variables interact is one of the most meaningful skills you will learn as a data scientist. \n\nBefore diving into specific methods, it is important to understand the types of variables that make up your dataset, specifically independent and dependent variables. \n\n***************************************\n\n## Types of Variables\n\n* <B>An independent variable</B>, which is commonly represented by the value “x”, is a variable that can stand on its own and isn’t affected any other variables. As the analyst, you will typically choose independent variables that you think will influence change in your dependent variable. Independent variables are also commonly referred to as predictor or explanatory variables.  \n\n* <B>A dependent variable</B>, which is commonly represented by the value “y”, depends on the independent variable(s). As an analyst, you are interested in observing the changes that take place with the dependent variable given changes in values of the independent variable. Dependent variables are also commonly referred to as outcome or target variables. \n\nThe distinction between independent and dependent variables is an important concept to master, as several analytical techniques are simply designed to examine the influence of one or more independent variables on a dependent variable. \n\n<LEFT><img src='https://showme0-9071.kxcdn.com/files/313838/pictures/thumbs/1015857/last_thumb1374514146.jpg'></LEFT>\n\n\n## A simple rule of thumb when determining which variables fall within each category: independent variable(s) cause a change in dependent variable(s), and it isn’t possible that the dependent variable(s) cause a change in the independent variable(s)."
    },
    {
      "metadata": {
        "trusted": true
      },
      "cell_type": "code",
      "source": "import pandas as pd\nimport numpy as np\n\nfrom matplotlib import pyplot as plt \nimport seaborn as sns\n\n%matplotlib inline",
      "execution_count": 1,
      "outputs": []
    },
    {
      "metadata": {
        "trusted": true
      },
      "cell_type": "code",
      "source": "datafile = \"datasets/gradedata.csv\"\ndf = pd.read_csv(datafile)\n\ndf.head()",
      "execution_count": 2,
      "outputs": [
        {
          "output_type": "execute_result",
          "execution_count": 2,
          "data": {
            "text/html": "<div>\n<style scoped>\n    .dataframe tbody tr th:only-of-type {\n        vertical-align: middle;\n    }\n\n    .dataframe tbody tr th {\n        vertical-align: top;\n    }\n\n    .dataframe thead th {\n        text-align: right;\n    }\n</style>\n<table border=\"1\" class=\"dataframe\">\n  <thead>\n    <tr style=\"text-align: right;\">\n      <th></th>\n      <th>fname</th>\n      <th>lname</th>\n      <th>gender</th>\n      <th>age</th>\n      <th>exercise</th>\n      <th>hours</th>\n      <th>grade</th>\n      <th>address</th>\n    </tr>\n  </thead>\n  <tbody>\n    <tr>\n      <th>0</th>\n      <td>Marcia</td>\n      <td>Pugh</td>\n      <td>female</td>\n      <td>17</td>\n      <td>3</td>\n      <td>10</td>\n      <td>82.4</td>\n      <td>9253 Richardson Road, Matawan, NJ 07747</td>\n    </tr>\n    <tr>\n      <th>1</th>\n      <td>Kadeem</td>\n      <td>Morrison</td>\n      <td>male</td>\n      <td>18</td>\n      <td>4</td>\n      <td>4</td>\n      <td>78.2</td>\n      <td>33 Spring Dr., Taunton, MA 02780</td>\n    </tr>\n    <tr>\n      <th>2</th>\n      <td>Nash</td>\n      <td>Powell</td>\n      <td>male</td>\n      <td>18</td>\n      <td>5</td>\n      <td>9</td>\n      <td>79.3</td>\n      <td>41 Hill Avenue, Mentor, OH 44060</td>\n    </tr>\n    <tr>\n      <th>3</th>\n      <td>Noelani</td>\n      <td>Wagner</td>\n      <td>female</td>\n      <td>14</td>\n      <td>2</td>\n      <td>7</td>\n      <td>83.2</td>\n      <td>8839 Marshall St., Miami, FL 33125</td>\n    </tr>\n    <tr>\n      <th>4</th>\n      <td>Noelani</td>\n      <td>Cherry</td>\n      <td>female</td>\n      <td>18</td>\n      <td>4</td>\n      <td>15</td>\n      <td>87.4</td>\n      <td>8304 Charles Rd., Lewis Center, OH 43035</td>\n    </tr>\n  </tbody>\n</table>\n</div>",
            "text/plain": "     fname     lname  gender  age  exercise  hours  grade  \\\n0   Marcia      Pugh  female   17         3     10   82.4   \n1   Kadeem  Morrison    male   18         4      4   78.2   \n2     Nash    Powell    male   18         5      9   79.3   \n3  Noelani    Wagner  female   14         2      7   83.2   \n4  Noelani    Cherry  female   18         4     15   87.4   \n\n                                    address  \n0   9253 Richardson Road, Matawan, NJ 07747  \n1          33 Spring Dr., Taunton, MA 02780  \n2          41 Hill Avenue, Mentor, OH 44060  \n3        8839 Marshall St., Miami, FL 33125  \n4  8304 Charles Rd., Lewis Center, OH 43035  "
          },
          "metadata": {}
        }
      ]
    },
    {
      "metadata": {},
      "cell_type": "markdown",
      "source": "## Correlation\n\nCorrelation is a numeric measure that describes the direction and magnitude of a linear relationship between two numeric variables. \n\n* Positively correlated variables move in the same direction – as one variable increases or decreases the second variable increases or decreases in the same direction (i.e., increase in study time/increase in test scores). \n\n* Negatively correlated variables move in opposite directions – as one variable increases or decreases the second variable moves in the opposite direction (i.e., decrease in daily spending/increase in total savings). \n\n<LEFT><img src='https://www.emathzone.com/wp-content/uploads/2014/10/positive-negative-corrrelation.jpg'></LEFT>\n\nCorrelation values, also referred to as the correlation coefficient, range from -1 to 1 – variables that are positively correlated are closer to 1 and variables that are negatively correlated are closer to -1. "
    },
    {
      "metadata": {
        "trusted": true
      },
      "cell_type": "code",
      "source": "#creates a table of correlation values\n#notice only numeric variables are included in the table\n\ndf.corr()",
      "execution_count": 3,
      "outputs": [
        {
          "output_type": "execute_result",
          "execution_count": 3,
          "data": {
            "text/html": "<div>\n<style scoped>\n    .dataframe tbody tr th:only-of-type {\n        vertical-align: middle;\n    }\n\n    .dataframe tbody tr th {\n        vertical-align: top;\n    }\n\n    .dataframe thead th {\n        text-align: right;\n    }\n</style>\n<table border=\"1\" class=\"dataframe\">\n  <thead>\n    <tr style=\"text-align: right;\">\n      <th></th>\n      <th>age</th>\n      <th>exercise</th>\n      <th>hours</th>\n      <th>grade</th>\n    </tr>\n  </thead>\n  <tbody>\n    <tr>\n      <th>age</th>\n      <td>1.000000</td>\n      <td>-0.003643</td>\n      <td>-0.017467</td>\n      <td>-0.007580</td>\n    </tr>\n    <tr>\n      <th>exercise</th>\n      <td>-0.003643</td>\n      <td>1.000000</td>\n      <td>0.021105</td>\n      <td>0.161286</td>\n    </tr>\n    <tr>\n      <th>hours</th>\n      <td>-0.017467</td>\n      <td>0.021105</td>\n      <td>1.000000</td>\n      <td>0.801955</td>\n    </tr>\n    <tr>\n      <th>grade</th>\n      <td>-0.007580</td>\n      <td>0.161286</td>\n      <td>0.801955</td>\n      <td>1.000000</td>\n    </tr>\n  </tbody>\n</table>\n</div>",
            "text/plain": "               age  exercise     hours     grade\nage       1.000000 -0.003643 -0.017467 -0.007580\nexercise -0.003643  1.000000  0.021105  0.161286\nhours    -0.017467  0.021105  1.000000  0.801955\ngrade    -0.007580  0.161286  0.801955  1.000000"
          },
          "metadata": {}
        }
      ]
    },
    {
      "metadata": {},
      "cell_type": "markdown",
      "source": "The strength of the relationship between variables is determined by the absolute value (value of a number disregarding the sign) of the correlation coefficient. \n\n\n* 1 - Perfect linear relationship\n* .70 - Strong relationship\n* .50 - Moderate relationship\n* .30 - Weak relationship\n* 0 - No linear relationship \n\nIt is important to understand that correlation is not the same as causation. Identifying a correlation between two factors does not automatically mean one factor causes another factor to occur.\n\n### What can we tell from the above table?\n\n* Each variable is perfectly correlated to itself (as expected)\n* \"Grades\" and \"Hours of Study\" are highly correlated\n* \"Grades\" and \"Hours of Exercise\" are weakly correlated"
    },
    {
      "metadata": {},
      "cell_type": "markdown",
      "source": "## Correlation 2.0\n\nUse a heatmap to better visualize your correlation matrix!"
    },
    {
      "metadata": {
        "trusted": true
      },
      "cell_type": "code",
      "source": "#show correlation of stats via heatmap\ncorr = df.corr()\n\nsns.heatmap(corr,cmap=\"gist_earth\", vmin=-1, annot=True, linewidths=1.5, linecolor='black')",
      "execution_count": 4,
      "outputs": [
        {
          "output_type": "execute_result",
          "execution_count": 4,
          "data": {
            "text/plain": "<matplotlib.axes._subplots.AxesSubplot at 0x7fb8252ea5f8>"
          },
          "metadata": {}
        },
        {
          "output_type": "display_data",
          "data": {
            "image/png": "[encoded data removed]",
            "text/plain": "<Figure size 432x288 with 2 Axes>"
          },
          "metadata": {
            "needs_background": "light"
          }
        }
      ]
    },
    {
      "metadata": {},
      "cell_type": "markdown",
      "source": "# Introduction to Linear Regression \n\n<b>Regression is a type of predictive analysis.</b> It is a powerful statistical tool that examines the linear relationship between variables to predict the value of a continuous dependent variable given the value of one or more independent variables. \n\nLinear regression will allow you to determine the statistical significance of linear relationships, determine the magnitude and direction of those linear relationships, and assess how much of the variation in the dependent variable can be explained by the independent variable(s). Linear regression also allows you to predict the values of the dependent variable given different values of the independent variable(s). \n\n***************************************\n\nA simple linear regression models the relationships between a single dependent and independent variable, <b>where the independent variable is predicting the value of the dependent variable</b>. A linear regression model is mathematically represented by the formula of a line:\n### \\begin{align}  y = mx + b \\end{align}\nWhere “y” is the dependent variable, “m” is the slope (also known as the coefficient), “x” represents the value of the independent variable, and “b” is the y-intercept (also known as the constant) which is the value of “y” when the coefficient is equal to 0. <b>Linear regression analyses will determine the line-of-best-fit, also known as the regression line, which is the best fitting straight line through your data points.</b> Most commonly, the best fitting line is the line that minimizes errors. The equation for the regression line is what is used to make predictions for your dependent variable. \n\n<center><img src='https://s3.amazonaws.com/stackabuse/media/linear-regression-python-scikit-learn-1.png'></center>\n\n***************************************\n\n<b><u>SIMPLE LINEAR REGRESSION</u></b>\n* One dependent variable\n* One independent variable\n\n<b><u>MULTIPLE LINEAR REGRESSION</u></b>\n* One dependent variable\n* One or more independent variables\n\n<B>CONFOUNDING VARIABLES AND MULTIPLE LINEAR REGRESSION</B>\n\nA <b>confounding</b> variable is an extra variable that can influence the results of your analyses. A confounding variable influences both the dependent and independent variable - without taking this variable(s) into consideration, you could incorrectly make assumptions about the relationship between your dependent variable and independent variable. \n\n<B>EXAMPLE</B> : \nYou are a personal trainer and need to track the outcomes of your 100 clients. You have a dataset that includes your clients name, age, gender, number of training sessions, daily caloric intake, starting weight, current weight, weight(lbs) lost, BMI, and body fat percentage. \n\nYou want to know if the number of training sessions influences weight loss. 'Number of sessions' is your Independent Variable and 'weight lost' is your dependent variable. We plug these variables into our linear regression model and find that there is a correlation between them - as the number of training sessions increases, weight loss also increases. \n\nHOWEVER, there are several other factors that may have an influence on this relationship. One confounding variable is the daily caloric intake of the clients. It's possible that men eat more than women, which would also mean that gender is a confounding variable. Not to mention, there was no mention of starting weight or age, both of which would influence the amount of weight lost. For example, if all your female clients were middle-aged, and all of the men were aged 16, age would have a direct effect on weight loss. Without controlling for all the potential confounding variables, you will not be able to accurately interpret the results of your analyses. \n\n***************************************\n\n<b><U>MULTIPLE LINEAR REGRESSION</U></b>\n\nMultiple linear regression allows you to include multiple independent variables in your regression equation. If you include all your potentially cofounding variables in the regression, you will be controlling for the effects of each variable. When you interpret the results of multiple linear regression you will say - \"when looking at the relationship between number of training sessions and weight loss, holding all other variables constant...\"\n\n***************************************\n\n<b><u>NOT</u> THE KITCHEN SINK!!</b>\n\nFeature selection is the process in which you determine which variables should be included in your model. You do NOT want to throw ALL your variables in your model. This will result in a mess of interpretations, and is a lazy approach to analyses. You should select the variables that you believe have a relationship with your dependent variable, including your independent variable(s) of interest and any cofounding variables you want to control for. You can typically use common sense for this selection, but you should also rely on your correlation matrix - variables that are highly correlated to your dependent variable and to your independent variable(s) of interest. \n\nSource: [Stack Abuse](https://s3.amazonaws.com/stackabuse/media/linear-regression-python-scikit-learn-1.png)"
    },
    {
      "metadata": {},
      "cell_type": "markdown",
      "source": "## Preparing for Linear Regression \n\n#### What should you do before you attempt a linear regression?\n\n* Fully explore your data (what does your data look like?)\n* Clean your data (missing values, outliers, data anomolies, etc.)\n* Determine what your research focus/question is - what do you want to find out?\n* Determine your dependent variables of interest and the independent variables you think are related to the dependent variables\n* Visual your data to identify any preliminary relatonships\n* Determine which variables have a relationship via correlation matrix\n* Determine which variables you think are best suited for your regression model (feature selection)\n\n***************************************\n\n## Preparing your variables\n\nIn order to run a linear regression analysis, your data must be in the appropriate format. Categorical variables cannot be included in your model without first being converted to binary variables (coded with 0/1). To do this, you can create <b>‘dummy variables’</b>, which are simply numeric variables that represent categorical data (i.e. race, gender, etc.)."
    },
    {
      "metadata": {
        "trusted": true
      },
      "cell_type": "code",
      "source": "df.head()\n\n# we want to see if we should include gender in the model",
      "execution_count": 5,
      "outputs": [
        {
          "output_type": "execute_result",
          "execution_count": 5,
          "data": {
            "text/html": "<div>\n<style scoped>\n    .dataframe tbody tr th:only-of-type {\n        vertical-align: middle;\n    }\n\n    .dataframe tbody tr th {\n        vertical-align: top;\n    }\n\n    .dataframe thead th {\n        text-align: right;\n    }\n</style>\n<table border=\"1\" class=\"dataframe\">\n  <thead>\n    <tr style=\"text-align: right;\">\n      <th></th>\n      <th>fname</th>\n      <th>lname</th>\n      <th>gender</th>\n      <th>age</th>\n      <th>exercise</th>\n      <th>hours</th>\n      <th>grade</th>\n      <th>address</th>\n    </tr>\n  </thead>\n  <tbody>\n    <tr>\n      <th>0</th>\n      <td>Marcia</td>\n      <td>Pugh</td>\n      <td>female</td>\n      <td>17</td>\n      <td>3</td>\n      <td>10</td>\n      <td>82.4</td>\n      <td>9253 Richardson Road, Matawan, NJ 07747</td>\n    </tr>\n    <tr>\n      <th>1</th>\n      <td>Kadeem</td>\n      <td>Morrison</td>\n      <td>male</td>\n      <td>18</td>\n      <td>4</td>\n      <td>4</td>\n      <td>78.2</td>\n      <td>33 Spring Dr., Taunton, MA 02780</td>\n    </tr>\n    <tr>\n      <th>2</th>\n      <td>Nash</td>\n      <td>Powell</td>\n      <td>male</td>\n      <td>18</td>\n      <td>5</td>\n      <td>9</td>\n      <td>79.3</td>\n      <td>41 Hill Avenue, Mentor, OH 44060</td>\n    </tr>\n    <tr>\n      <th>3</th>\n      <td>Noelani</td>\n      <td>Wagner</td>\n      <td>female</td>\n      <td>14</td>\n      <td>2</td>\n      <td>7</td>\n      <td>83.2</td>\n      <td>8839 Marshall St., Miami, FL 33125</td>\n    </tr>\n    <tr>\n      <th>4</th>\n      <td>Noelani</td>\n      <td>Cherry</td>\n      <td>female</td>\n      <td>18</td>\n      <td>4</td>\n      <td>15</td>\n      <td>87.4</td>\n      <td>8304 Charles Rd., Lewis Center, OH 43035</td>\n    </tr>\n  </tbody>\n</table>\n</div>",
            "text/plain": "     fname     lname  gender  age  exercise  hours  grade  \\\n0   Marcia      Pugh  female   17         3     10   82.4   \n1   Kadeem  Morrison    male   18         4      4   78.2   \n2     Nash    Powell    male   18         5      9   79.3   \n3  Noelani    Wagner  female   14         2      7   83.2   \n4  Noelani    Cherry  female   18         4     15   87.4   \n\n                                    address  \n0   9253 Richardson Road, Matawan, NJ 07747  \n1          33 Spring Dr., Taunton, MA 02780  \n2          41 Hill Avenue, Mentor, OH 44060  \n3        8839 Marshall St., Miami, FL 33125  \n4  8304 Charles Rd., Lewis Center, OH 43035  "
          },
          "metadata": {}
        }
      ]
    },
    {
      "metadata": {
        "trusted": true,
        "scrolled": true
      },
      "cell_type": "code",
      "source": "# create a new dataset to hold your dummy variables\n# use the pd.get_dummies function, specify the dataset, \n# and specify the variables you want to convert\n\nmodeldf = pd.get_dummies(data=df, columns=['gender'])\nmodeldf.head()",
      "execution_count": 6,
      "outputs": [
        {
          "output_type": "execute_result",
          "execution_count": 6,
          "data": {
            "text/html": "<div>\n<style scoped>\n    .dataframe tbody tr th:only-of-type {\n        vertical-align: middle;\n    }\n\n    .dataframe tbody tr th {\n        vertical-align: top;\n    }\n\n    .dataframe thead th {\n        text-align: right;\n    }\n</style>\n<table border=\"1\" class=\"dataframe\">\n  <thead>\n    <tr style=\"text-align: right;\">\n      <th></th>\n      <th>fname</th>\n      <th>lname</th>\n      <th>age</th>\n      <th>exercise</th>\n      <th>hours</th>\n      <th>grade</th>\n      <th>address</th>\n      <th>gender_female</th>\n      <th>gender_male</th>\n    </tr>\n  </thead>\n  <tbody>\n    <tr>\n      <th>0</th>\n      <td>Marcia</td>\n      <td>Pugh</td>\n      <td>17</td>\n      <td>3</td>\n      <td>10</td>\n      <td>82.4</td>\n      <td>9253 Richardson Road, Matawan, NJ 07747</td>\n      <td>1</td>\n      <td>0</td>\n    </tr>\n    <tr>\n      <th>1</th>\n      <td>Kadeem</td>\n      <td>Morrison</td>\n      <td>18</td>\n      <td>4</td>\n      <td>4</td>\n      <td>78.2</td>\n      <td>33 Spring Dr., Taunton, MA 02780</td>\n      <td>0</td>\n      <td>1</td>\n    </tr>\n    <tr>\n      <th>2</th>\n      <td>Nash</td>\n      <td>Powell</td>\n      <td>18</td>\n      <td>5</td>\n      <td>9</td>\n      <td>79.3</td>\n      <td>41 Hill Avenue, Mentor, OH 44060</td>\n      <td>0</td>\n      <td>1</td>\n    </tr>\n    <tr>\n      <th>3</th>\n      <td>Noelani</td>\n      <td>Wagner</td>\n      <td>14</td>\n      <td>2</td>\n      <td>7</td>\n      <td>83.2</td>\n      <td>8839 Marshall St., Miami, FL 33125</td>\n      <td>1</td>\n      <td>0</td>\n    </tr>\n    <tr>\n      <th>4</th>\n      <td>Noelani</td>\n      <td>Cherry</td>\n      <td>18</td>\n      <td>4</td>\n      <td>15</td>\n      <td>87.4</td>\n      <td>8304 Charles Rd., Lewis Center, OH 43035</td>\n      <td>1</td>\n      <td>0</td>\n    </tr>\n  </tbody>\n</table>\n</div>",
            "text/plain": "     fname     lname  age  exercise  hours  grade  \\\n0   Marcia      Pugh   17         3     10   82.4   \n1   Kadeem  Morrison   18         4      4   78.2   \n2     Nash    Powell   18         5      9   79.3   \n3  Noelani    Wagner   14         2      7   83.2   \n4  Noelani    Cherry   18         4     15   87.4   \n\n                                    address  gender_female  gender_male  \n0   9253 Richardson Road, Matawan, NJ 07747              1            0  \n1          33 Spring Dr., Taunton, MA 02780              0            1  \n2          41 Hill Avenue, Mentor, OH 44060              0            1  \n3        8839 Marshall St., Miami, FL 33125              1            0  \n4  8304 Charles Rd., Lewis Center, OH 43035              1            0  "
          },
          "metadata": {}
        }
      ]
    },
    {
      "metadata": {
        "trusted": true,
        "scrolled": true
      },
      "cell_type": "code",
      "source": "reg_df = modeldf[['age','exercise','hours','grade','gender_female']]\nreg_df.head()",
      "execution_count": 7,
      "outputs": [
        {
          "output_type": "execute_result",
          "execution_count": 7,
          "data": {
            "text/html": "<div>\n<style scoped>\n    .dataframe tbody tr th:only-of-type {\n        vertical-align: middle;\n    }\n\n    .dataframe tbody tr th {\n        vertical-align: top;\n    }\n\n    .dataframe thead th {\n        text-align: right;\n    }\n</style>\n<table border=\"1\" class=\"dataframe\">\n  <thead>\n    <tr style=\"text-align: right;\">\n      <th></th>\n      <th>age</th>\n      <th>exercise</th>\n      <th>hours</th>\n      <th>grade</th>\n      <th>gender_female</th>\n    </tr>\n  </thead>\n  <tbody>\n    <tr>\n      <th>0</th>\n      <td>17</td>\n      <td>3</td>\n      <td>10</td>\n      <td>82.4</td>\n      <td>1</td>\n    </tr>\n    <tr>\n      <th>1</th>\n      <td>18</td>\n      <td>4</td>\n      <td>4</td>\n      <td>78.2</td>\n      <td>0</td>\n    </tr>\n    <tr>\n      <th>2</th>\n      <td>18</td>\n      <td>5</td>\n      <td>9</td>\n      <td>79.3</td>\n      <td>0</td>\n    </tr>\n    <tr>\n      <th>3</th>\n      <td>14</td>\n      <td>2</td>\n      <td>7</td>\n      <td>83.2</td>\n      <td>1</td>\n    </tr>\n    <tr>\n      <th>4</th>\n      <td>18</td>\n      <td>4</td>\n      <td>15</td>\n      <td>87.4</td>\n      <td>1</td>\n    </tr>\n  </tbody>\n</table>\n</div>",
            "text/plain": "   age  exercise  hours  grade  gender_female\n0   17         3     10   82.4              1\n1   18         4      4   78.2              0\n2   18         5      9   79.3              0\n3   14         2      7   83.2              1\n4   18         4     15   87.4              1"
          },
          "metadata": {}
        }
      ]
    },
    {
      "metadata": {
        "trusted": true,
        "scrolled": false
      },
      "cell_type": "code",
      "source": "sns.barplot(x='gender_female', y='grade', data=reg_df)",
      "execution_count": 8,
      "outputs": [
        {
          "output_type": "stream",
          "text": "/home/nbuser/anaconda3_501/lib/python3.6/site-packages/scipy/stats/stats.py:1713: FutureWarning: Using a non-tuple sequence for multidimensional indexing is deprecated; use `arr[tuple(seq)]` instead of `arr[seq]`. In the future this will be interpreted as an array index, `arr[np.array(seq)]`, which will result either in an error or a different result.\n  return np.add.reduce(sorted[indexer] * weights, axis=axis) / sumval\n",
          "name": "stderr"
        },
        {
          "output_type": "execute_result",
          "execution_count": 8,
          "data": {
            "text/plain": "<matplotlib.axes._subplots.AxesSubplot at 0x7fb824f0c8d0>"
          },
          "metadata": {}
        },
        {
          "output_type": "display_data",
          "data": {
            "image/png": "[encoded data removed]",
            "text/plain": "<Figure size 432x288 with 1 Axes>"
          },
          "metadata": {
            "needs_background": "light"
          }
        }
      ]
    },
    {
      "metadata": {
        "trusted": true
      },
      "cell_type": "code",
      "source": "pd.pivot_table(reg_df, values=['grade'], index=['gender_female'])",
      "execution_count": 9,
      "outputs": [
        {
          "output_type": "execute_result",
          "execution_count": 9,
          "data": {
            "text/html": "<div>\n<style scoped>\n    .dataframe tbody tr th:only-of-type {\n        vertical-align: middle;\n    }\n\n    .dataframe tbody tr th {\n        vertical-align: top;\n    }\n\n    .dataframe thead th {\n        text-align: right;\n    }\n</style>\n<table border=\"1\" class=\"dataframe\">\n  <thead>\n    <tr style=\"text-align: right;\">\n      <th></th>\n      <th>grade</th>\n    </tr>\n    <tr>\n      <th>gender_female</th>\n      <th></th>\n    </tr>\n  </thead>\n  <tbody>\n    <tr>\n      <th>0</th>\n      <td>82.3948</td>\n    </tr>\n    <tr>\n      <th>1</th>\n      <td>82.7173</td>\n    </tr>\n  </tbody>\n</table>\n</div>",
            "text/plain": "                 grade\ngender_female         \n0              82.3948\n1              82.7173"
          },
          "metadata": {}
        }
      ]
    },
    {
      "metadata": {},
      "cell_type": "markdown",
      "source": "## Regression Library \n\nTo run our linear regression model, we are using the <B>statsmodels library</B>. Statsmodels is a Python package that allows exploration of data, statistical modeling, and several other statistical functions. "
    },
    {
      "metadata": {
        "trusted": true
      },
      "cell_type": "code",
      "source": "#use this library to build a statistical test for linear regression\n\nimport statsmodels.formula.api as smf",
      "execution_count": 10,
      "outputs": []
    },
    {
      "metadata": {},
      "cell_type": "markdown",
      "source": "## What do we want to know?\n\nWhat is the influence of hours of study on final grade? What is that relationship like when we control for age and hours of exercise? "
    },
    {
      "metadata": {
        "trusted": true
      },
      "cell_type": "code",
      "source": "#OLS is Ordinary Least Squares, the most common type of linear regression\n#the fit function uses the predictive values to calculate the best linear regression line\n\nresult = smf.ols('grade ~ age + exercise + hours', data=reg_df).fit()\n\n#the summary will show the calculated values (slopes and y-intercept) for the linear regression formula\n#the closer to 1 the adjusted r-squared value is, the better the fit of the linear regression line\n#the p-value shows how statistically significant a predictive feature could be the model [ p <= 0.05 ] \n\nresult.summary()",
      "execution_count": 11,
      "outputs": [
        {
          "output_type": "execute_result",
          "execution_count": 11,
          "data": {
            "text/html": "<table class=\"simpletable\">\n<caption>OLS Regression Results</caption>\n<tr>\n  <th>Dep. Variable:</th>          <td>grade</td>      <th>  R-squared:         </th> <td>   0.664</td> \n</tr>\n<tr>\n  <th>Model:</th>                   <td>OLS</td>       <th>  Adj. R-squared:    </th> <td>   0.664</td> \n</tr>\n<tr>\n  <th>Method:</th>             <td>Least Squares</td>  <th>  F-statistic:       </th> <td>   1315.</td> \n</tr>\n<tr>\n  <th>Date:</th>             <td>Sat, 26 Oct 2019</td> <th>  Prob (F-statistic):</th>  <td>  0.00</td>  \n</tr>\n<tr>\n  <th>Time:</th>                 <td>12:57:25</td>     <th>  Log-Likelihood:    </th> <td> -6300.7</td> \n</tr>\n<tr>\n  <th>No. Observations:</th>      <td>  2000</td>      <th>  AIC:               </th> <td>1.261e+04</td>\n</tr>\n<tr>\n  <th>Df Residuals:</th>          <td>  1996</td>      <th>  BIC:               </th> <td>1.263e+04</td>\n</tr>\n<tr>\n  <th>Df Model:</th>              <td>     3</td>      <th>                     </th>     <td> </td>    \n</tr>\n<tr>\n  <th>Covariance Type:</th>      <td>nonrobust</td>    <th>                     </th>     <td> </td>    \n</tr>\n</table>\n<table class=\"simpletable\">\n<tr>\n      <td></td>         <th>coef</th>     <th>std err</th>      <th>t</th>      <th>P>|t|</th>  <th>[0.025</th>    <th>0.975]</th>  \n</tr>\n<tr>\n  <th>Intercept</th> <td>   57.8704</td> <td>    1.321</td> <td>   43.804</td> <td> 0.000</td> <td>   55.279</td> <td>   60.461</td>\n</tr>\n<tr>\n  <th>age</th>       <td>    0.0397</td> <td>    0.075</td> <td>    0.532</td> <td> 0.595</td> <td>   -0.107</td> <td>    0.186</td>\n</tr>\n<tr>\n  <th>exercise</th>  <td>    0.9893</td> <td>    0.089</td> <td>   11.131</td> <td> 0.000</td> <td>    0.815</td> <td>    1.164</td>\n</tr>\n<tr>\n  <th>hours</th>     <td>    1.9165</td> <td>    0.031</td> <td>   61.564</td> <td> 0.000</td> <td>    1.855</td> <td>    1.978</td>\n</tr>\n</table>\n<table class=\"simpletable\">\n<tr>\n  <th>Omnibus:</th>       <td>321.187</td> <th>  Durbin-Watson:     </th> <td>   2.047</td>\n</tr>\n<tr>\n  <th>Prob(Omnibus):</th> <td> 0.000</td>  <th>  Jarque-Bera (JB):  </th> <td>2196.187</td>\n</tr>\n<tr>\n  <th>Skew:</th>          <td>-0.567</td>  <th>  Prob(JB):          </th> <td>    0.00</td>\n</tr>\n<tr>\n  <th>Kurtosis:</th>      <td> 8.007</td>  <th>  Cond. No.          </th> <td>    213.</td>\n</tr>\n</table><br/><br/>Warnings:<br/>[1] Standard Errors assume that the covariance matrix of the errors is correctly specified.",
            "text/plain": "<class 'statsmodels.iolib.summary.Summary'>\n\"\"\"\n                            OLS Regression Results                            \n==============================================================================\nDep. Variable:                  grade   R-squared:                       0.664\nModel:                            OLS   Adj. R-squared:                  0.664\nMethod:                 Least Squares   F-statistic:                     1315.\nDate:                Sat, 26 Oct 2019   Prob (F-statistic):               0.00\nTime:                        12:57:25   Log-Likelihood:                -6300.7\nNo. Observations:                2000   AIC:                         1.261e+04\nDf Residuals:                    1996   BIC:                         1.263e+04\nDf Model:                           3                                         \nCovariance Type:            nonrobust                                         \n==============================================================================\n                 coef    std err          t      P>|t|      [0.025      0.975]\n------------------------------------------------------------------------------\nIntercept     57.8704      1.321     43.804      0.000      55.279      60.461\nage            0.0397      0.075      0.532      0.595      -0.107       0.186\nexercise       0.9893      0.089     11.131      0.000       0.815       1.164\nhours          1.9165      0.031     61.564      0.000       1.855       1.978\n==============================================================================\nOmnibus:                      321.187   Durbin-Watson:                   2.047\nProb(Omnibus):                  0.000   Jarque-Bera (JB):             2196.187\nSkew:                          -0.567   Prob(JB):                         0.00\nKurtosis:                       8.007   Cond. No.                         213.\n==============================================================================\n\nWarnings:\n[1] Standard Errors assume that the covariance matrix of the errors is correctly specified.\n\"\"\""
          },
          "metadata": {}
        }
      ]
    },
    {
      "metadata": {},
      "cell_type": "markdown",
      "source": "## Interpreting Linear Regression Result\n\n<b><u>Model Fit:</u></b> the adjusted R-squared reflects the overall fit of the model. Adjusted R-squared values range from 0 to 1, where a higher value generally indicates a better fit. Adjusted R-squared can be interpreted as the percentage of variation in the dependent variable that can be explained by the independent variable(s). \n\n***************************************\n\n<b><u>Intercept:</u></b> the y-intercept, or constant, is the value given to the dependent variable if all independent variables are equal to 0. For example, when all independent variables are equal to 0, the expected grade is approximately 58.\n\n***************************************\n\n<b><u>Coefficients (coef):</u></b> also known as the slope coefficients, these values show how changes in the independent variable influence the dependent variable, and in what direction. Each coefficient represents the numeric change in the dependent variable given a one-unit change in the independent variable. For example, for every one hour increase in study time (hours), grade increases by 1.9 points. \n* INTERCEPT: when all other IV's are zero, expected grade is around 58\n* AGE: for every one year increase in age, grade increases by 0.04 points\n* EXERCISE: for every one hour increase in exercise, grade increases by approximately 1 point\n* HOURS: for every one hour increase in study time, grade increases by 1.9 points\n\n***************************************\n\n<b><u>std err:</u></b> the standard error reflects the level of accuracy of the coefficients. The lower the value, the higher the level of accuracy. \n\n***************************************\n\n<b><u>p-value (P>|t|):</u></b> as shown in the fourth column, the p-value shows if the linear relationship between the independent variable and the dependent variable is statistically significant. The p-value for each independent variable tests the null hypothesis that there is no correlation between the specific variable and the dependent variable. A commonly used significance cutoff value is 0.05 – which can be interpreted as ‘there is a 5% chance that the differences observed are just by chance’. If the observed p-value is less than 0.05, you can reject the null hypothesis and conclude that the effect is statistically significant. \n\n***************************************\n\n### This is not a \"one and done\" situation! After you run your analyses, you can alter your model to determine if you can improve the overall fit. "
    },
    {
      "metadata": {
        "trusted": true
      },
      "cell_type": "code",
      "source": "#remove age from regression, since it was not very correlated to other features\n\nresult = smf.ols('grade ~ exercise + hours', data=reg_df).fit()\nresult.summary()",
      "execution_count": 12,
      "outputs": [
        {
          "output_type": "execute_result",
          "execution_count": 12,
          "data": {
            "text/html": "<table class=\"simpletable\">\n<caption>OLS Regression Results</caption>\n<tr>\n  <th>Dep. Variable:</th>          <td>grade</td>      <th>  R-squared:         </th> <td>   0.664</td> \n</tr>\n<tr>\n  <th>Model:</th>                   <td>OLS</td>       <th>  Adj. R-squared:    </th> <td>   0.664</td> \n</tr>\n<tr>\n  <th>Method:</th>             <td>Least Squares</td>  <th>  F-statistic:       </th> <td>   1973.</td> \n</tr>\n<tr>\n  <th>Date:</th>             <td>Sat, 26 Oct 2019</td> <th>  Prob (F-statistic):</th>  <td>  0.00</td>  \n</tr>\n<tr>\n  <th>Time:</th>                 <td>12:57:26</td>     <th>  Log-Likelihood:    </th> <td> -6300.8</td> \n</tr>\n<tr>\n  <th>No. Observations:</th>      <td>  2000</td>      <th>  AIC:               </th> <td>1.261e+04</td>\n</tr>\n<tr>\n  <th>Df Residuals:</th>          <td>  1997</td>      <th>  BIC:               </th> <td>1.262e+04</td>\n</tr>\n<tr>\n  <th>Df Model:</th>              <td>     2</td>      <th>                     </th>     <td> </td>    \n</tr>\n<tr>\n  <th>Covariance Type:</th>      <td>nonrobust</td>    <th>                     </th>     <td> </td>    \n</tr>\n</table>\n<table class=\"simpletable\">\n<tr>\n      <td></td>         <th>coef</th>     <th>std err</th>      <th>t</th>      <th>P>|t|</th>  <th>[0.025</th>    <th>0.975]</th>  \n</tr>\n<tr>\n  <th>Intercept</th> <td>   58.5316</td> <td>    0.447</td> <td>  130.828</td> <td> 0.000</td> <td>   57.654</td> <td>   59.409</td>\n</tr>\n<tr>\n  <th>exercise</th>  <td>    0.9892</td> <td>    0.089</td> <td>   11.131</td> <td> 0.000</td> <td>    0.815</td> <td>    1.163</td>\n</tr>\n<tr>\n  <th>hours</th>     <td>    1.9162</td> <td>    0.031</td> <td>   61.575</td> <td> 0.000</td> <td>    1.855</td> <td>    1.977</td>\n</tr>\n</table>\n<table class=\"simpletable\">\n<tr>\n  <th>Omnibus:</th>       <td>318.721</td> <th>  Durbin-Watson:     </th> <td>   2.048</td>\n</tr>\n<tr>\n  <th>Prob(Omnibus):</th> <td> 0.000</td>  <th>  Jarque-Bera (JB):  </th> <td>2158.000</td>\n</tr>\n<tr>\n  <th>Skew:</th>          <td>-0.564</td>  <th>  Prob(JB):          </th> <td>    0.00</td>\n</tr>\n<tr>\n  <th>Kurtosis:</th>      <td> 7.962</td>  <th>  Cond. No.          </th> <td>    43.2</td>\n</tr>\n</table><br/><br/>Warnings:<br/>[1] Standard Errors assume that the covariance matrix of the errors is correctly specified.",
            "text/plain": "<class 'statsmodels.iolib.summary.Summary'>\n\"\"\"\n                            OLS Regression Results                            \n==============================================================================\nDep. Variable:                  grade   R-squared:                       0.664\nModel:                            OLS   Adj. R-squared:                  0.664\nMethod:                 Least Squares   F-statistic:                     1973.\nDate:                Sat, 26 Oct 2019   Prob (F-statistic):               0.00\nTime:                        12:57:26   Log-Likelihood:                -6300.8\nNo. Observations:                2000   AIC:                         1.261e+04\nDf Residuals:                    1997   BIC:                         1.262e+04\nDf Model:                           2                                         \nCovariance Type:            nonrobust                                         \n==============================================================================\n                 coef    std err          t      P>|t|      [0.025      0.975]\n------------------------------------------------------------------------------\nIntercept     58.5316      0.447    130.828      0.000      57.654      59.409\nexercise       0.9892      0.089     11.131      0.000       0.815       1.163\nhours          1.9162      0.031     61.575      0.000       1.855       1.977\n==============================================================================\nOmnibus:                      318.721   Durbin-Watson:                   2.048\nProb(Omnibus):                  0.000   Jarque-Bera (JB):             2158.000\nSkew:                          -0.564   Prob(JB):                         0.00\nKurtosis:                       7.962   Cond. No.                         43.2\n==============================================================================\n\nWarnings:\n[1] Standard Errors assume that the covariance matrix of the errors is correctly specified.\n\"\"\""
          },
          "metadata": {}
        }
      ]
    },
    {
      "metadata": {
        "trusted": true
      },
      "cell_type": "markdown",
      "source": "# Module 5 Exercises"
    },
    {
      "metadata": {},
      "cell_type": "markdown",
      "source": "### Exercise 1:\n\nFrom the datasets folder, load the \"tamiami.csv\" file as a dataframe. Rename the columns (in order) to the following:\n\n- location\n- sales\n- employees\n- restaurants\n- foodcarts\n- price\n\nThen do a correlation table on that dataframe. What features (columns) are correlated? What features aren't correlated?"
    },
    {
      "metadata": {
        "trusted": true
      },
      "cell_type": "code",
      "source": "",
      "execution_count": null,
      "outputs": []
    },
    {
      "metadata": {},
      "cell_type": "markdown",
      "source": "### Exercise 2:\n\nUsing the dataframe from the previous exercise, choose features (columns) to create a linear regression formula to predict sales. Try it with and without the y-intercept. How does it make a difference? Does adding or removing features in your model formula make a difference in the output?"
    },
    {
      "metadata": {
        "trusted": true
      },
      "cell_type": "code",
      "source": "",
      "execution_count": null,
      "outputs": []
    }
  ],
  "metadata": {
    "kernelspec": {
      "name": "python36",
      "display_name": "Python 3.6",
      "language": "python"
    },
    "language_info": {
      "mimetype": "text/x-python",
      "nbconvert_exporter": "python",
      "name": "python",
      "pygments_lexer": "ipython3",
      "version": "3.6.6",
      "file_extension": ".py",
      "codemirror_mode": {
        "version": 3,
        "name": "ipython"
      }
    }
  },
  "nbformat": 4,
  "nbformat_minor": 2
}