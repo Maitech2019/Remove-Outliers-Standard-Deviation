{
  "cells": [
    {
      "metadata": {},
      "cell_type": "markdown",
      "source": "# Calculating and Removing Outliers"
    },
    {
      "metadata": {
        "trusted": true
      },
      "cell_type": "code",
      "source": "import pandas as pd\nimport numpy as np",
      "execution_count": 1,
      "outputs": []
    },
    {
      "metadata": {},
      "cell_type": "markdown",
      "source": "# Calculate and Remove Outliers\n\n<b>OUTLIER</b>\n\nAn outlier is a data point that differs significantly from other observations. The value of an outlier is relative to the dataset as a whole. "
    },
    {
      "metadata": {},
      "cell_type": "markdown",
      "source": "<center><img src='https://www.stevesjogren.com/wp-content/uploads/2011/06/1_TbUF_HTQ6jOhO8EoPnmekQ-696x385.jpg'></center>"
    },
    {
      "metadata": {
        "trusted": true
      },
      "cell_type": "code",
      "source": "filename = \"datasets/gradedata.csv\"\ndf = pd.read_csv(filename)\nprint(df.shape)\ndf.head()",
      "execution_count": 2,
      "outputs": [
        {
          "output_type": "stream",
          "text": "(2000, 8)\n",
          "name": "stdout"
        },
        {
          "output_type": "execute_result",
          "execution_count": 2,
          "data": {
            "text/html": "<div>\n<style scoped>\n    .dataframe tbody tr th:only-of-type {\n        vertical-align: middle;\n    }\n\n    .dataframe tbody tr th {\n        vertical-align: top;\n    }\n\n    .dataframe thead th {\n        text-align: right;\n    }\n</style>\n<table border=\"1\" class=\"dataframe\">\n  <thead>\n    <tr style=\"text-align: right;\">\n      <th></th>\n      <th>fname</th>\n      <th>lname</th>\n      <th>gender</th>\n      <th>age</th>\n      <th>exercise</th>\n      <th>hours</th>\n      <th>grade</th>\n      <th>address</th>\n    </tr>\n  </thead>\n  <tbody>\n    <tr>\n      <th>0</th>\n      <td>Marcia</td>\n      <td>Pugh</td>\n      <td>female</td>\n      <td>17</td>\n      <td>3</td>\n      <td>10</td>\n      <td>82.4</td>\n      <td>9253 Richardson Road, Matawan, NJ 07747</td>\n    </tr>\n    <tr>\n      <th>1</th>\n      <td>Kadeem</td>\n      <td>Morrison</td>\n      <td>male</td>\n      <td>18</td>\n      <td>4</td>\n      <td>4</td>\n      <td>78.2</td>\n      <td>33 Spring Dr., Taunton, MA 02780</td>\n    </tr>\n    <tr>\n      <th>2</th>\n      <td>Nash</td>\n      <td>Powell</td>\n      <td>male</td>\n      <td>18</td>\n      <td>5</td>\n      <td>9</td>\n      <td>79.3</td>\n      <td>41 Hill Avenue, Mentor, OH 44060</td>\n    </tr>\n    <tr>\n      <th>3</th>\n      <td>Noelani</td>\n      <td>Wagner</td>\n      <td>female</td>\n      <td>14</td>\n      <td>2</td>\n      <td>7</td>\n      <td>83.2</td>\n      <td>8839 Marshall St., Miami, FL 33125</td>\n    </tr>\n    <tr>\n      <th>4</th>\n      <td>Noelani</td>\n      <td>Cherry</td>\n      <td>female</td>\n      <td>18</td>\n      <td>4</td>\n      <td>15</td>\n      <td>87.4</td>\n      <td>8304 Charles Rd., Lewis Center, OH 43035</td>\n    </tr>\n  </tbody>\n</table>\n</div>",
            "text/plain": "     fname     lname  gender  age  exercise  hours  grade  \\\n0   Marcia      Pugh  female   17         3     10   82.4   \n1   Kadeem  Morrison    male   18         4      4   78.2   \n2     Nash    Powell    male   18         5      9   79.3   \n3  Noelani    Wagner  female   14         2      7   83.2   \n4  Noelani    Cherry  female   18         4     15   87.4   \n\n                                    address  \n0   9253 Richardson Road, Matawan, NJ 07747  \n1          33 Spring Dr., Taunton, MA 02780  \n2          41 Hill Avenue, Mentor, OH 44060  \n3        8839 Marshall St., Miami, FL 33125  \n4  8304 Charles Rd., Lewis Center, OH 43035  "
          },
          "metadata": {}
        }
      ]
    },
    {
      "metadata": {},
      "cell_type": "markdown",
      "source": "## REVIEW\n\n***************************************\n\n#### MEAN\n\n* Average in a series of numbers. To calculate the mean, you add up all the numbers in a series and divide the sum by the number of values. \n\n#### MEDIAN\n\n* The median of a set of data is the middlemost number in the set. The median is also the number that is halfway into the set. If there is an even number of values, the median is the mean of the two middlemost numbers.  \n\n#### MODE\n\n* The mode of a set of data is the value in the set that occurs most often."
    },
    {
      "metadata": {},
      "cell_type": "markdown",
      "source": "# Method 1: STANDARD DEVIATION\n## Best with normally distributed data\n\n### <u>How much does the data vary from the average?</u>\n\n<center><img src='https://www.benlcollins.com/wp-content/uploads/2016/02/image.png'></center>\n\n### SD is a measure of <b>spread</b>, how spread out a set of data is. \n\nA <b>low</b> SD means the data is closely clustered around the mean. A <b>high</b> SD means the data is spread out over a wider range of values. \n\n<center><img src='https://www.thepokerbank.com/images/std-dev-low-high.png'></center>\n\n\n***************************************\n\n### 68 / 95 / 99.7 RULE\n\nWhen your data is normally distributed (bell curve), typically your data will fall within the following patterns: \n\n<center><img src='https://www.thedataschool.co.uk/wp-content/uploads/2016/02/Normal-distribution-curve.jpg'></center>\n\n\n* 68% of the data falls within 1 SD of the mean\n\n* 95% of the data falls within 2 SD's of the mean\n\n* 99.7% of the data falls within 3 SD's of the mean\n\n### Example:\n\nThe average cost of lemons in the US is 3.00 dollars per pound with a SD of 0.50 cents. \n\n* 68% of lemons cost between 2.50 and 3.50 dollars per pound. \n* 95% of lemons cost between 2.00 and 4.00 dollars per pound.\n* 99.7% of lemons cost between 1.50 and 4.50 dollars per pound. \n\n***************************************\n\n### Distance from the mean\n\nA datapoints distance from the mean is measured by how many SD's it is away from the mean. A datapoint that is beyond a certain number of SD's away from the mean represents an outcome that is significantly above or below the mean. \n\nYou can set a predetermined 'cut-off distance' from the mean and everything outside of that distance will be considered an outlier. The cutoff value that you use will be dependent on your dataset - the less data you have, the stricter cutoff you should have. \n\n#### A common cutoff point point is: +/- 1.96 SD's from the mean - anything above or below these values will be considered an outlier. \n\n***************************************\n\n## REMOVING OUTLIERS USING SD\n\n* Determine a cut-off point \n* Calculate mean, std, and the cut-off values\n* Drop all values that fall outside of this range "
    },
    {
      "metadata": {
        "trusted": true
      },
      "cell_type": "code",
      "source": "print(df.shape)\ndf.head()",
      "execution_count": 3,
      "outputs": [
        {
          "output_type": "stream",
          "text": "(2000, 8)\n",
          "name": "stdout"
        },
        {
          "output_type": "execute_result",
          "execution_count": 3,
          "data": {
            "text/html": "<div>\n<style scoped>\n    .dataframe tbody tr th:only-of-type {\n        vertical-align: middle;\n    }\n\n    .dataframe tbody tr th {\n        vertical-align: top;\n    }\n\n    .dataframe thead th {\n        text-align: right;\n    }\n</style>\n<table border=\"1\" class=\"dataframe\">\n  <thead>\n    <tr style=\"text-align: right;\">\n      <th></th>\n      <th>fname</th>\n      <th>lname</th>\n      <th>gender</th>\n      <th>age</th>\n      <th>exercise</th>\n      <th>hours</th>\n      <th>grade</th>\n      <th>address</th>\n    </tr>\n  </thead>\n  <tbody>\n    <tr>\n      <th>0</th>\n      <td>Marcia</td>\n      <td>Pugh</td>\n      <td>female</td>\n      <td>17</td>\n      <td>3</td>\n      <td>10</td>\n      <td>82.4</td>\n      <td>9253 Richardson Road, Matawan, NJ 07747</td>\n    </tr>\n    <tr>\n      <th>1</th>\n      <td>Kadeem</td>\n      <td>Morrison</td>\n      <td>male</td>\n      <td>18</td>\n      <td>4</td>\n      <td>4</td>\n      <td>78.2</td>\n      <td>33 Spring Dr., Taunton, MA 02780</td>\n    </tr>\n    <tr>\n      <th>2</th>\n      <td>Nash</td>\n      <td>Powell</td>\n      <td>male</td>\n      <td>18</td>\n      <td>5</td>\n      <td>9</td>\n      <td>79.3</td>\n      <td>41 Hill Avenue, Mentor, OH 44060</td>\n    </tr>\n    <tr>\n      <th>3</th>\n      <td>Noelani</td>\n      <td>Wagner</td>\n      <td>female</td>\n      <td>14</td>\n      <td>2</td>\n      <td>7</td>\n      <td>83.2</td>\n      <td>8839 Marshall St., Miami, FL 33125</td>\n    </tr>\n    <tr>\n      <th>4</th>\n      <td>Noelani</td>\n      <td>Cherry</td>\n      <td>female</td>\n      <td>18</td>\n      <td>4</td>\n      <td>15</td>\n      <td>87.4</td>\n      <td>8304 Charles Rd., Lewis Center, OH 43035</td>\n    </tr>\n  </tbody>\n</table>\n</div>",
            "text/plain": "     fname     lname  gender  age  exercise  hours  grade  \\\n0   Marcia      Pugh  female   17         3     10   82.4   \n1   Kadeem  Morrison    male   18         4      4   78.2   \n2     Nash    Powell    male   18         5      9   79.3   \n3  Noelani    Wagner  female   14         2      7   83.2   \n4  Noelani    Cherry  female   18         4     15   87.4   \n\n                                    address  \n0   9253 Richardson Road, Matawan, NJ 07747  \n1          33 Spring Dr., Taunton, MA 02780  \n2          41 Hill Avenue, Mentor, OH 44060  \n3        8839 Marshall St., Miami, FL 33125  \n4  8304 Charles Rd., Lewis Center, OH 43035  "
          },
          "metadata": {}
        }
      ]
    },
    {
      "metadata": {
        "trusted": true,
        "scrolled": true
      },
      "cell_type": "code",
      "source": "#Standard Deviation Method\n\nmeangrade = df['grade'].mean() # what is the mean grade for the class?\n\nstdgrade = df['grade'].std() # what is the standard deviation of class grades?\n\ntoprange = meangrade + stdgrade * 1.96 # the top limit for grade, anything above this is considered an outlier\nbotrange = meangrade - stdgrade * 1.96 # the bottom limit for grade, anything below this is considered an outlier\n\ncopydf = df.copy() ## create a new dataset that will remove outliers\n\ncopydf = copydf.drop(copydf[copydf['grade'] > toprange].index)\ncopydf = copydf.drop(copydf[copydf['grade'] < botrange].index)\n\nprint(copydf.shape) #54 outliers dropped\ncopydf.head()",
      "execution_count": 4,
      "outputs": [
        {
          "output_type": "stream",
          "text": "(1946, 8)\n",
          "name": "stdout"
        },
        {
          "output_type": "execute_result",
          "execution_count": 4,
          "data": {
            "text/html": "<div>\n<style scoped>\n    .dataframe tbody tr th:only-of-type {\n        vertical-align: middle;\n    }\n\n    .dataframe tbody tr th {\n        vertical-align: top;\n    }\n\n    .dataframe thead th {\n        text-align: right;\n    }\n</style>\n<table border=\"1\" class=\"dataframe\">\n  <thead>\n    <tr style=\"text-align: right;\">\n      <th></th>\n      <th>fname</th>\n      <th>lname</th>\n      <th>gender</th>\n      <th>age</th>\n      <th>exercise</th>\n      <th>hours</th>\n      <th>grade</th>\n      <th>address</th>\n    </tr>\n  </thead>\n  <tbody>\n    <tr>\n      <th>0</th>\n      <td>Marcia</td>\n      <td>Pugh</td>\n      <td>female</td>\n      <td>17</td>\n      <td>3</td>\n      <td>10</td>\n      <td>82.4</td>\n      <td>9253 Richardson Road, Matawan, NJ 07747</td>\n    </tr>\n    <tr>\n      <th>1</th>\n      <td>Kadeem</td>\n      <td>Morrison</td>\n      <td>male</td>\n      <td>18</td>\n      <td>4</td>\n      <td>4</td>\n      <td>78.2</td>\n      <td>33 Spring Dr., Taunton, MA 02780</td>\n    </tr>\n    <tr>\n      <th>2</th>\n      <td>Nash</td>\n      <td>Powell</td>\n      <td>male</td>\n      <td>18</td>\n      <td>5</td>\n      <td>9</td>\n      <td>79.3</td>\n      <td>41 Hill Avenue, Mentor, OH 44060</td>\n    </tr>\n    <tr>\n      <th>3</th>\n      <td>Noelani</td>\n      <td>Wagner</td>\n      <td>female</td>\n      <td>14</td>\n      <td>2</td>\n      <td>7</td>\n      <td>83.2</td>\n      <td>8839 Marshall St., Miami, FL 33125</td>\n    </tr>\n    <tr>\n      <th>4</th>\n      <td>Noelani</td>\n      <td>Cherry</td>\n      <td>female</td>\n      <td>18</td>\n      <td>4</td>\n      <td>15</td>\n      <td>87.4</td>\n      <td>8304 Charles Rd., Lewis Center, OH 43035</td>\n    </tr>\n  </tbody>\n</table>\n</div>",
            "text/plain": "     fname     lname  gender  age  exercise  hours  grade  \\\n0   Marcia      Pugh  female   17         3     10   82.4   \n1   Kadeem  Morrison    male   18         4      4   78.2   \n2     Nash    Powell    male   18         5      9   79.3   \n3  Noelani    Wagner  female   14         2      7   83.2   \n4  Noelani    Cherry  female   18         4     15   87.4   \n\n                                    address  \n0   9253 Richardson Road, Matawan, NJ 07747  \n1          33 Spring Dr., Taunton, MA 02780  \n2          41 Hill Avenue, Mentor, OH 44060  \n3        8839 Marshall St., Miami, FL 33125  \n4  8304 Charles Rd., Lewis Center, OH 43035  "
          },
          "metadata": {}
        }
      ]
    },
    {
      "metadata": {},
      "cell_type": "markdown",
      "source": "# Method 2: INTERQUARTILE RANGE\n## Best with non-normally distributed data\n\nThe Interquartile Range (IQR) is a measure of where the bulk of the data values lie. The IQR is the range of the middle of the dataset.\n\n***************************************\n\n### VOCAB\n\n<b>Quartile:</b> the values that divide an ordered list of numbers into quarters\n\n<b>Lower Quartile (Q1):</b> median of the lower half of data \n\n<b>Upper Quartiles (Q3):</b> median of the upper half of data  \n\n<b>Range:</b> difference between the greatest and least values in a dataset\n\n<b>IQR:</b> range of the middle of the data, difference between the upper and lower quartiles \n\n***************************************\n\nIn a given set of numbers, there are three values that divide the data into four sections. \n\n<center><img src='https://www.mathsisfun.com/data/images/interquartile-range.svg'></center>\n\n## Q1\nThe median of the lower half of the data\n\n\n## Q2\nThe median of the full set of data\n\n\n## Q3\nThe median of the upper half of the data\n\n\n## IQR\nThe difference between Q3 and Q1. The IQR is calcuated by the following formula:\n\nIQR = Q3 - Q1 \n\n***************************************\n\n## 1.5 RULE\n\nA commonly used rule of thumb says that a data point is an outlier if it is . . . \n\n* ... below Q1 - 1.5(IQR)\n\n* ... above Q3 + 1.5(IQR)\n\n\n### Example:\n\nIn a list of student absences {1, 3, 4, 6, 7, 7, 8, 8, 10, 12, 17}\n\n* Q1 = 4\n* Q2 = 7\n* Q3 = 10\n\n#### Q3(10) - Q1(4) = IQR = 6\n\nlower limit : 4 - 1.5(6) = <b>-5</b>\n\nupper limit : 10 + 1.5(6) = <b>19</b>\n\nData values less than or greater than these cut-off points are considered outliers. There are no outliers in this example.  \n\n***************************************\n\n## REMOVING OUTLIERS USING IQR\n\n* Calculate quantiles \n* Calculate IQR\n* Determine upper and lower limits\n* Drop values less than the lower and/or greater than the upper"
    },
    {
      "metadata": {
        "trusted": true
      },
      "cell_type": "code",
      "source": "#Interquartile Range Method\n\nq1 = df['grade'].quantile(.25) #calculate Q1\nq3 = df['grade'].quantile(.75) #calculate Q3\n\niqr = q3-q1 # calcualate the IQR\n\ntoprange = q3 + iqr * 1.5 # determine the upper limit, values higher then this are outliers \nbotrange = q1 - iqr * 1.5 # determine the lower limit, values lower than this are outliers\n\ncopydf = df.copy() ## create a new dataset that will remove outliers\n\ncopydf = copydf.drop(copydf[copydf['grade'] > toprange].index) #drop grades higher than the top range\ncopydf = copydf.drop(copydf[copydf['grade'] < botrange].index) #drop grades lower than the bottom range\n\nprint(copydf.shape) #2 outliers dropped\ncopydf.head()",
      "execution_count": 5,
      "outputs": [
        {
          "output_type": "stream",
          "text": "(1998, 8)\n",
          "name": "stdout"
        },
        {
          "output_type": "execute_result",
          "execution_count": 5,
          "data": {
            "text/html": "<div>\n<style scoped>\n    .dataframe tbody tr th:only-of-type {\n        vertical-align: middle;\n    }\n\n    .dataframe tbody tr th {\n        vertical-align: top;\n    }\n\n    .dataframe thead th {\n        text-align: right;\n    }\n</style>\n<table border=\"1\" class=\"dataframe\">\n  <thead>\n    <tr style=\"text-align: right;\">\n      <th></th>\n      <th>fname</th>\n      <th>lname</th>\n      <th>gender</th>\n      <th>age</th>\n      <th>exercise</th>\n      <th>hours</th>\n      <th>grade</th>\n      <th>address</th>\n    </tr>\n  </thead>\n  <tbody>\n    <tr>\n      <th>0</th>\n      <td>Marcia</td>\n      <td>Pugh</td>\n      <td>female</td>\n      <td>17</td>\n      <td>3</td>\n      <td>10</td>\n      <td>82.4</td>\n      <td>9253 Richardson Road, Matawan, NJ 07747</td>\n    </tr>\n    <tr>\n      <th>1</th>\n      <td>Kadeem</td>\n      <td>Morrison</td>\n      <td>male</td>\n      <td>18</td>\n      <td>4</td>\n      <td>4</td>\n      <td>78.2</td>\n      <td>33 Spring Dr., Taunton, MA 02780</td>\n    </tr>\n    <tr>\n      <th>2</th>\n      <td>Nash</td>\n      <td>Powell</td>\n      <td>male</td>\n      <td>18</td>\n      <td>5</td>\n      <td>9</td>\n      <td>79.3</td>\n      <td>41 Hill Avenue, Mentor, OH 44060</td>\n    </tr>\n    <tr>\n      <th>3</th>\n      <td>Noelani</td>\n      <td>Wagner</td>\n      <td>female</td>\n      <td>14</td>\n      <td>2</td>\n      <td>7</td>\n      <td>83.2</td>\n      <td>8839 Marshall St., Miami, FL 33125</td>\n    </tr>\n    <tr>\n      <th>4</th>\n      <td>Noelani</td>\n      <td>Cherry</td>\n      <td>female</td>\n      <td>18</td>\n      <td>4</td>\n      <td>15</td>\n      <td>87.4</td>\n      <td>8304 Charles Rd., Lewis Center, OH 43035</td>\n    </tr>\n  </tbody>\n</table>\n</div>",
            "text/plain": "     fname     lname  gender  age  exercise  hours  grade  \\\n0   Marcia      Pugh  female   17         3     10   82.4   \n1   Kadeem  Morrison    male   18         4      4   78.2   \n2     Nash    Powell    male   18         5      9   79.3   \n3  Noelani    Wagner  female   14         2      7   83.2   \n4  Noelani    Cherry  female   18         4     15   87.4   \n\n                                    address  \n0   9253 Richardson Road, Matawan, NJ 07747  \n1          33 Spring Dr., Taunton, MA 02780  \n2          41 Hill Avenue, Mentor, OH 44060  \n3        8839 Marshall St., Miami, FL 33125  \n4  8304 Charles Rd., Lewis Center, OH 43035  "
          },
          "metadata": {}
        }
      ]
    },
    {
      "metadata": {},
      "cell_type": "markdown",
      "source": "## IQR & BOX PLOT CHARTS\n\nIn a given set of numbers, there are three values that divide the data into four sections. \n\n<LEFT><img src='https://i2.wp.com/makemeanalyst.com/wp-content/uploads/2017/05/simple.box_.defs_.gif?resize=540%2C370'></LEFT>"
    }
  ],
  "metadata": {
    "kernelspec": {
      "name": "python36",
      "display_name": "Python 3.6",
      "language": "python"
    },
    "language_info": {
      "mimetype": "text/x-python",
      "nbconvert_exporter": "python",
      "name": "python",
      "pygments_lexer": "ipython3",
      "version": "3.6.6",
      "file_extension": ".py",
      "codemirror_mode": {
        "version": 3,
        "name": "ipython"
      }
    }
  },
  "nbformat": 4,
  "nbformat_minor": 2
}